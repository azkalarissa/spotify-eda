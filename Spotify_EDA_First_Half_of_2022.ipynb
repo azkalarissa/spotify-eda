{
  "nbformat": 4,
  "nbformat_minor": 0,
  "metadata": {
    "colab": {
      "name": "Spotify EDA First Half of 2022.ipynb",
      "provenance": [],
      "collapsed_sections": [
        "SKFAEccd3mJS",
        "pzVt4jWovA04",
        "isBMuIfX3mLi"
      ]
    },
    "kernelspec": {
      "name": "python3",
      "display_name": "Python 3"
    },
    "language_info": {
      "name": "python"
    }
  },
  "cells": [
    {
      "cell_type": "markdown",
      "source": [
        "# Importing Libraries"
      ],
      "metadata": {
        "id": "fqiEOzBvdgTO"
      }
    },
    {
      "cell_type": "code",
      "source": [
        "from google.colab import files"
      ],
      "metadata": {
        "id": "o4O6uDJPdrXG"
      },
      "execution_count": 1,
      "outputs": []
    },
    {
      "cell_type": "code",
      "source": [
        "from google.colab import drive\n",
        "drive.mount('/content/drive')"
      ],
      "metadata": {
        "id": "CVPzg2w2ppSh",
        "colab": {
          "base_uri": "https://localhost:8080/"
        },
        "outputId": "8af6e724-0ab6-4052-aae1-1b07b175bd31"
      },
      "execution_count": 2,
      "outputs": [
        {
          "output_type": "stream",
          "name": "stdout",
          "text": [
            "Mounted at /content/drive\n"
          ]
        }
      ]
    },
    {
      "cell_type": "code",
      "source": [
        "import pandas as pd\n",
        "import numpy as np\n",
        "import json\n",
        "import sys\n",
        "import matplotlib.pyplot as plt\n",
        "import matplotlib.dates as mdates\n",
        "import matplotlib.cbook as cbook\n",
        "import seaborn as sns\n",
        "from pandas.api.types import CategoricalDtype"
      ],
      "metadata": {
        "id": "jzzzzT-BgNFI"
      },
      "execution_count": 3,
      "outputs": []
    },
    {
      "cell_type": "markdown",
      "source": [
        "# Importing Data"
      ],
      "metadata": {
        "id": "xn2c9YY1gGjM"
      }
    },
    {
      "cell_type": "code",
      "source": [
        "# Reading JSON Streaming History\n",
        "df0 = pd.read_json(\"/content/drive/MyDrive/SpotifyEDA/StreamingHistory0.json\")\n",
        "df1 = pd.read_json(\"/content/drive/MyDrive/SpotifyEDA/StreamingHistory1.json\")\n",
        "df2 = pd.read_json(\"/content/drive/MyDrive/SpotifyEDA/StreamingHistory2.json\")\n",
        "df3 = pd.read_json(\"/content/drive/MyDrive/SpotifyEDA/StreamingHistory3.json\")\n",
        "df4 = pd.read_json(\"/content/drive/MyDrive/SpotifyEDA/StreamingHistory4.json\")"
      ],
      "metadata": {
        "id": "aRjkoSeskh_T"
      },
      "execution_count": 10,
      "outputs": []
    },
    {
      "cell_type": "markdown",
      "source": [
        "Spotify provides streaming history data which grouped into 5 period of time during 1 year."
      ],
      "metadata": {
        "id": "MymapZ60KUYr"
      }
    },
    {
      "cell_type": "code",
      "source": [
        "# Merge Multiple Dataframes\n",
        "dfm1 = pd.merge(df0, df1, how = 'outer')\n",
        "dfm2 = pd.merge(dfm1, df2, how = 'outer')\n",
        "dfm3 = pd.merge(dfm2, df3, how = 'outer')\n",
        "df = pd.merge(dfm3, df4, how = 'outer')"
      ],
      "metadata": {
        "id": "NqWunQ3utxt9"
      },
      "execution_count": 11,
      "outputs": []
    },
    {
      "cell_type": "markdown",
      "source": [
        "To analyze my streaming history in the first half of 2022, I need to merge all the dataframes into one dataframe."
      ],
      "metadata": {
        "id": "rgGGFBPUOtTu"
      }
    },
    {
      "cell_type": "code",
      "source": [
        "df.head()"
      ],
      "metadata": {
        "colab": {
          "base_uri": "https://localhost:8080/",
          "height": 206
        },
        "id": "84plLO7YOgtj",
        "outputId": "a685a5e7-424c-445b-e53c-3345c4be6f78"
      },
      "execution_count": 16,
      "outputs": [
        {
          "output_type": "execute_result",
          "data": {
            "text/plain": [
              "            endTime            artistName                   trackName  \\\n",
              "0  2021-07-02 00:03             Rocketman               Orange Coffee   \n",
              "1  2021-07-02 00:07                  SURL                        Snow   \n",
              "2  2021-07-02 00:11         Phum Viphurit               Softly Spoken   \n",
              "3  2021-07-02 00:13  Sunset Rollercoaster  I Know You Know I Love You   \n",
              "4  2021-07-02 00:16               JAEHYUN                   Try Again   \n",
              "\n",
              "   msPlayed  \n",
              "0    232844  \n",
              "1    274013  \n",
              "2    266138  \n",
              "3    120693  \n",
              "4    178233  "
            ],
            "text/html": [
              "\n",
              "  <div id=\"df-8ebe7ee0-ec62-4be6-a5b4-baa4da421840\">\n",
              "    <div class=\"colab-df-container\">\n",
              "      <div>\n",
              "<style scoped>\n",
              "    .dataframe tbody tr th:only-of-type {\n",
              "        vertical-align: middle;\n",
              "    }\n",
              "\n",
              "    .dataframe tbody tr th {\n",
              "        vertical-align: top;\n",
              "    }\n",
              "\n",
              "    .dataframe thead th {\n",
              "        text-align: right;\n",
              "    }\n",
              "</style>\n",
              "<table border=\"1\" class=\"dataframe\">\n",
              "  <thead>\n",
              "    <tr style=\"text-align: right;\">\n",
              "      <th></th>\n",
              "      <th>endTime</th>\n",
              "      <th>artistName</th>\n",
              "      <th>trackName</th>\n",
              "      <th>msPlayed</th>\n",
              "    </tr>\n",
              "  </thead>\n",
              "  <tbody>\n",
              "    <tr>\n",
              "      <th>0</th>\n",
              "      <td>2021-07-02 00:03</td>\n",
              "      <td>Rocketman</td>\n",
              "      <td>Orange Coffee</td>\n",
              "      <td>232844</td>\n",
              "    </tr>\n",
              "    <tr>\n",
              "      <th>1</th>\n",
              "      <td>2021-07-02 00:07</td>\n",
              "      <td>SURL</td>\n",
              "      <td>Snow</td>\n",
              "      <td>274013</td>\n",
              "    </tr>\n",
              "    <tr>\n",
              "      <th>2</th>\n",
              "      <td>2021-07-02 00:11</td>\n",
              "      <td>Phum Viphurit</td>\n",
              "      <td>Softly Spoken</td>\n",
              "      <td>266138</td>\n",
              "    </tr>\n",
              "    <tr>\n",
              "      <th>3</th>\n",
              "      <td>2021-07-02 00:13</td>\n",
              "      <td>Sunset Rollercoaster</td>\n",
              "      <td>I Know You Know I Love You</td>\n",
              "      <td>120693</td>\n",
              "    </tr>\n",
              "    <tr>\n",
              "      <th>4</th>\n",
              "      <td>2021-07-02 00:16</td>\n",
              "      <td>JAEHYUN</td>\n",
              "      <td>Try Again</td>\n",
              "      <td>178233</td>\n",
              "    </tr>\n",
              "  </tbody>\n",
              "</table>\n",
              "</div>\n",
              "      <button class=\"colab-df-convert\" onclick=\"convertToInteractive('df-8ebe7ee0-ec62-4be6-a5b4-baa4da421840')\"\n",
              "              title=\"Convert this dataframe to an interactive table.\"\n",
              "              style=\"display:none;\">\n",
              "        \n",
              "  <svg xmlns=\"http://www.w3.org/2000/svg\" height=\"24px\"viewBox=\"0 0 24 24\"\n",
              "       width=\"24px\">\n",
              "    <path d=\"M0 0h24v24H0V0z\" fill=\"none\"/>\n",
              "    <path d=\"M18.56 5.44l.94 2.06.94-2.06 2.06-.94-2.06-.94-.94-2.06-.94 2.06-2.06.94zm-11 1L8.5 8.5l.94-2.06 2.06-.94-2.06-.94L8.5 2.5l-.94 2.06-2.06.94zm10 10l.94 2.06.94-2.06 2.06-.94-2.06-.94-.94-2.06-.94 2.06-2.06.94z\"/><path d=\"M17.41 7.96l-1.37-1.37c-.4-.4-.92-.59-1.43-.59-.52 0-1.04.2-1.43.59L10.3 9.45l-7.72 7.72c-.78.78-.78 2.05 0 2.83L4 21.41c.39.39.9.59 1.41.59.51 0 1.02-.2 1.41-.59l7.78-7.78 2.81-2.81c.8-.78.8-2.07 0-2.86zM5.41 20L4 18.59l7.72-7.72 1.47 1.35L5.41 20z\"/>\n",
              "  </svg>\n",
              "      </button>\n",
              "      \n",
              "  <style>\n",
              "    .colab-df-container {\n",
              "      display:flex;\n",
              "      flex-wrap:wrap;\n",
              "      gap: 12px;\n",
              "    }\n",
              "\n",
              "    .colab-df-convert {\n",
              "      background-color: #E8F0FE;\n",
              "      border: none;\n",
              "      border-radius: 50%;\n",
              "      cursor: pointer;\n",
              "      display: none;\n",
              "      fill: #1967D2;\n",
              "      height: 32px;\n",
              "      padding: 0 0 0 0;\n",
              "      width: 32px;\n",
              "    }\n",
              "\n",
              "    .colab-df-convert:hover {\n",
              "      background-color: #E2EBFA;\n",
              "      box-shadow: 0px 1px 2px rgba(60, 64, 67, 0.3), 0px 1px 3px 1px rgba(60, 64, 67, 0.15);\n",
              "      fill: #174EA6;\n",
              "    }\n",
              "\n",
              "    [theme=dark] .colab-df-convert {\n",
              "      background-color: #3B4455;\n",
              "      fill: #D2E3FC;\n",
              "    }\n",
              "\n",
              "    [theme=dark] .colab-df-convert:hover {\n",
              "      background-color: #434B5C;\n",
              "      box-shadow: 0px 1px 3px 1px rgba(0, 0, 0, 0.15);\n",
              "      filter: drop-shadow(0px 1px 2px rgba(0, 0, 0, 0.3));\n",
              "      fill: #FFFFFF;\n",
              "    }\n",
              "  </style>\n",
              "\n",
              "      <script>\n",
              "        const buttonEl =\n",
              "          document.querySelector('#df-8ebe7ee0-ec62-4be6-a5b4-baa4da421840 button.colab-df-convert');\n",
              "        buttonEl.style.display =\n",
              "          google.colab.kernel.accessAllowed ? 'block' : 'none';\n",
              "\n",
              "        async function convertToInteractive(key) {\n",
              "          const element = document.querySelector('#df-8ebe7ee0-ec62-4be6-a5b4-baa4da421840');\n",
              "          const dataTable =\n",
              "            await google.colab.kernel.invokeFunction('convertToInteractive',\n",
              "                                                     [key], {});\n",
              "          if (!dataTable) return;\n",
              "\n",
              "          const docLinkHtml = 'Like what you see? Visit the ' +\n",
              "            '<a target=\"_blank\" href=https://colab.research.google.com/notebooks/data_table.ipynb>data table notebook</a>'\n",
              "            + ' to learn more about interactive tables.';\n",
              "          element.innerHTML = '';\n",
              "          dataTable['output_type'] = 'display_data';\n",
              "          await google.colab.output.renderOutput(dataTable, element);\n",
              "          const docLink = document.createElement('div');\n",
              "          docLink.innerHTML = docLinkHtml;\n",
              "          element.appendChild(docLink);\n",
              "        }\n",
              "      </script>\n",
              "    </div>\n",
              "  </div>\n",
              "  "
            ]
          },
          "metadata": {},
          "execution_count": 16
        }
      ]
    },
    {
      "cell_type": "code",
      "source": [
        "df.tail()"
      ],
      "metadata": {
        "colab": {
          "base_uri": "https://localhost:8080/",
          "height": 206
        },
        "id": "49m0FruNOm7l",
        "outputId": "bbef0596-e698-4070-a477-42b3b5a8ac38"
      },
      "execution_count": 15,
      "outputs": [
        {
          "output_type": "execute_result",
          "data": {
            "text/plain": [
              "                endTime artistName      trackName  msPlayed\n",
              "44449  2022-07-02 21:28    ENHYPEN      10 Months    194220\n",
              "44450  2022-07-02 21:31   TREASURE         JIKJIN    184117\n",
              "44451  2022-07-02 21:34    Young K     Microphone    196840\n",
              "44452  2022-07-02 21:37  SEVENTEEN  Ready to love    186760\n",
              "44453  2022-07-02 21:41      STAYC           STAR    257472"
            ],
            "text/html": [
              "\n",
              "  <div id=\"df-d33249a4-7fd0-4d1d-9e41-031059f42642\">\n",
              "    <div class=\"colab-df-container\">\n",
              "      <div>\n",
              "<style scoped>\n",
              "    .dataframe tbody tr th:only-of-type {\n",
              "        vertical-align: middle;\n",
              "    }\n",
              "\n",
              "    .dataframe tbody tr th {\n",
              "        vertical-align: top;\n",
              "    }\n",
              "\n",
              "    .dataframe thead th {\n",
              "        text-align: right;\n",
              "    }\n",
              "</style>\n",
              "<table border=\"1\" class=\"dataframe\">\n",
              "  <thead>\n",
              "    <tr style=\"text-align: right;\">\n",
              "      <th></th>\n",
              "      <th>endTime</th>\n",
              "      <th>artistName</th>\n",
              "      <th>trackName</th>\n",
              "      <th>msPlayed</th>\n",
              "    </tr>\n",
              "  </thead>\n",
              "  <tbody>\n",
              "    <tr>\n",
              "      <th>44449</th>\n",
              "      <td>2022-07-02 21:28</td>\n",
              "      <td>ENHYPEN</td>\n",
              "      <td>10 Months</td>\n",
              "      <td>194220</td>\n",
              "    </tr>\n",
              "    <tr>\n",
              "      <th>44450</th>\n",
              "      <td>2022-07-02 21:31</td>\n",
              "      <td>TREASURE</td>\n",
              "      <td>JIKJIN</td>\n",
              "      <td>184117</td>\n",
              "    </tr>\n",
              "    <tr>\n",
              "      <th>44451</th>\n",
              "      <td>2022-07-02 21:34</td>\n",
              "      <td>Young K</td>\n",
              "      <td>Microphone</td>\n",
              "      <td>196840</td>\n",
              "    </tr>\n",
              "    <tr>\n",
              "      <th>44452</th>\n",
              "      <td>2022-07-02 21:37</td>\n",
              "      <td>SEVENTEEN</td>\n",
              "      <td>Ready to love</td>\n",
              "      <td>186760</td>\n",
              "    </tr>\n",
              "    <tr>\n",
              "      <th>44453</th>\n",
              "      <td>2022-07-02 21:41</td>\n",
              "      <td>STAYC</td>\n",
              "      <td>STAR</td>\n",
              "      <td>257472</td>\n",
              "    </tr>\n",
              "  </tbody>\n",
              "</table>\n",
              "</div>\n",
              "      <button class=\"colab-df-convert\" onclick=\"convertToInteractive('df-d33249a4-7fd0-4d1d-9e41-031059f42642')\"\n",
              "              title=\"Convert this dataframe to an interactive table.\"\n",
              "              style=\"display:none;\">\n",
              "        \n",
              "  <svg xmlns=\"http://www.w3.org/2000/svg\" height=\"24px\"viewBox=\"0 0 24 24\"\n",
              "       width=\"24px\">\n",
              "    <path d=\"M0 0h24v24H0V0z\" fill=\"none\"/>\n",
              "    <path d=\"M18.56 5.44l.94 2.06.94-2.06 2.06-.94-2.06-.94-.94-2.06-.94 2.06-2.06.94zm-11 1L8.5 8.5l.94-2.06 2.06-.94-2.06-.94L8.5 2.5l-.94 2.06-2.06.94zm10 10l.94 2.06.94-2.06 2.06-.94-2.06-.94-.94-2.06-.94 2.06-2.06.94z\"/><path d=\"M17.41 7.96l-1.37-1.37c-.4-.4-.92-.59-1.43-.59-.52 0-1.04.2-1.43.59L10.3 9.45l-7.72 7.72c-.78.78-.78 2.05 0 2.83L4 21.41c.39.39.9.59 1.41.59.51 0 1.02-.2 1.41-.59l7.78-7.78 2.81-2.81c.8-.78.8-2.07 0-2.86zM5.41 20L4 18.59l7.72-7.72 1.47 1.35L5.41 20z\"/>\n",
              "  </svg>\n",
              "      </button>\n",
              "      \n",
              "  <style>\n",
              "    .colab-df-container {\n",
              "      display:flex;\n",
              "      flex-wrap:wrap;\n",
              "      gap: 12px;\n",
              "    }\n",
              "\n",
              "    .colab-df-convert {\n",
              "      background-color: #E8F0FE;\n",
              "      border: none;\n",
              "      border-radius: 50%;\n",
              "      cursor: pointer;\n",
              "      display: none;\n",
              "      fill: #1967D2;\n",
              "      height: 32px;\n",
              "      padding: 0 0 0 0;\n",
              "      width: 32px;\n",
              "    }\n",
              "\n",
              "    .colab-df-convert:hover {\n",
              "      background-color: #E2EBFA;\n",
              "      box-shadow: 0px 1px 2px rgba(60, 64, 67, 0.3), 0px 1px 3px 1px rgba(60, 64, 67, 0.15);\n",
              "      fill: #174EA6;\n",
              "    }\n",
              "\n",
              "    [theme=dark] .colab-df-convert {\n",
              "      background-color: #3B4455;\n",
              "      fill: #D2E3FC;\n",
              "    }\n",
              "\n",
              "    [theme=dark] .colab-df-convert:hover {\n",
              "      background-color: #434B5C;\n",
              "      box-shadow: 0px 1px 3px 1px rgba(0, 0, 0, 0.15);\n",
              "      filter: drop-shadow(0px 1px 2px rgba(0, 0, 0, 0.3));\n",
              "      fill: #FFFFFF;\n",
              "    }\n",
              "  </style>\n",
              "\n",
              "      <script>\n",
              "        const buttonEl =\n",
              "          document.querySelector('#df-d33249a4-7fd0-4d1d-9e41-031059f42642 button.colab-df-convert');\n",
              "        buttonEl.style.display =\n",
              "          google.colab.kernel.accessAllowed ? 'block' : 'none';\n",
              "\n",
              "        async function convertToInteractive(key) {\n",
              "          const element = document.querySelector('#df-d33249a4-7fd0-4d1d-9e41-031059f42642');\n",
              "          const dataTable =\n",
              "            await google.colab.kernel.invokeFunction('convertToInteractive',\n",
              "                                                     [key], {});\n",
              "          if (!dataTable) return;\n",
              "\n",
              "          const docLinkHtml = 'Like what you see? Visit the ' +\n",
              "            '<a target=\"_blank\" href=https://colab.research.google.com/notebooks/data_table.ipynb>data table notebook</a>'\n",
              "            + ' to learn more about interactive tables.';\n",
              "          element.innerHTML = '';\n",
              "          dataTable['output_type'] = 'display_data';\n",
              "          await google.colab.output.renderOutput(dataTable, element);\n",
              "          const docLink = document.createElement('div');\n",
              "          docLink.innerHTML = docLinkHtml;\n",
              "          element.appendChild(docLink);\n",
              "        }\n",
              "      </script>\n",
              "    </div>\n",
              "  </div>\n",
              "  "
            ]
          },
          "metadata": {},
          "execution_count": 15
        }
      ]
    },
    {
      "cell_type": "code",
      "source": [
        "df.count()"
      ],
      "metadata": {
        "colab": {
          "base_uri": "https://localhost:8080/"
        },
        "id": "AvxEpLsSt4zw",
        "outputId": "365fe393-a059-4603-b02e-3cf06995a19a"
      },
      "execution_count": 12,
      "outputs": [
        {
          "output_type": "execute_result",
          "data": {
            "text/plain": [
              "endTime       44454\n",
              "artistName    44454\n",
              "trackName     44454\n",
              "msPlayed      44454\n",
              "dtype: int64"
            ]
          },
          "metadata": {},
          "execution_count": 12
        }
      ]
    },
    {
      "cell_type": "markdown",
      "source": [
        "I requested my personal data on July 1, 2022. Therefore, spotify gave me  data from July 2, 2021 to July 2, 2022 with total of 44,454 streaming data."
      ],
      "metadata": {
        "id": "KbH4ELHmPAP6"
      }
    },
    {
      "cell_type": "code",
      "source": [
        "# Define First Half of 2022 Data\n",
        "df = df[(df['endTime'] > '2022-01-01') & (df['endTime'] <= '2022-06-30')]\n",
        "df.head()"
      ],
      "metadata": {
        "colab": {
          "base_uri": "https://localhost:8080/",
          "height": 206
        },
        "id": "5GSuRSybPcXi",
        "outputId": "146d8553-1242-44c0-90a7-80789f096998"
      },
      "execution_count": 23,
      "outputs": [
        {
          "output_type": "execute_result",
          "data": {
            "text/plain": [
              "                endTime            artistName  \\\n",
              "31930  2022-01-01 19:04     Rex Orange County   \n",
              "31931  2022-01-01 19:08  Cigarettes After Sex   \n",
              "31932  2022-01-02 05:56        Patrick Watson   \n",
              "31933  2022-01-02 05:59          Ryan Gosling   \n",
              "31934  2022-01-02 06:03              Coldplay   \n",
              "\n",
              "                                          trackName  msPlayed  \n",
              "31930                               Pluto Projector    266054  \n",
              "31931                                    Apocalypse    191482  \n",
              "31932                      Je te laisserai des mots    287893  \n",
              "31933  City Of Stars - From \"La La Land\" Soundtrack    149706  \n",
              "31934                                        Sparks    227093  "
            ],
            "text/html": [
              "\n",
              "  <div id=\"df-874aa832-4a85-4b8b-acba-793b544250d2\">\n",
              "    <div class=\"colab-df-container\">\n",
              "      <div>\n",
              "<style scoped>\n",
              "    .dataframe tbody tr th:only-of-type {\n",
              "        vertical-align: middle;\n",
              "    }\n",
              "\n",
              "    .dataframe tbody tr th {\n",
              "        vertical-align: top;\n",
              "    }\n",
              "\n",
              "    .dataframe thead th {\n",
              "        text-align: right;\n",
              "    }\n",
              "</style>\n",
              "<table border=\"1\" class=\"dataframe\">\n",
              "  <thead>\n",
              "    <tr style=\"text-align: right;\">\n",
              "      <th></th>\n",
              "      <th>endTime</th>\n",
              "      <th>artistName</th>\n",
              "      <th>trackName</th>\n",
              "      <th>msPlayed</th>\n",
              "    </tr>\n",
              "  </thead>\n",
              "  <tbody>\n",
              "    <tr>\n",
              "      <th>31930</th>\n",
              "      <td>2022-01-01 19:04</td>\n",
              "      <td>Rex Orange County</td>\n",
              "      <td>Pluto Projector</td>\n",
              "      <td>266054</td>\n",
              "    </tr>\n",
              "    <tr>\n",
              "      <th>31931</th>\n",
              "      <td>2022-01-01 19:08</td>\n",
              "      <td>Cigarettes After Sex</td>\n",
              "      <td>Apocalypse</td>\n",
              "      <td>191482</td>\n",
              "    </tr>\n",
              "    <tr>\n",
              "      <th>31932</th>\n",
              "      <td>2022-01-02 05:56</td>\n",
              "      <td>Patrick Watson</td>\n",
              "      <td>Je te laisserai des mots</td>\n",
              "      <td>287893</td>\n",
              "    </tr>\n",
              "    <tr>\n",
              "      <th>31933</th>\n",
              "      <td>2022-01-02 05:59</td>\n",
              "      <td>Ryan Gosling</td>\n",
              "      <td>City Of Stars - From \"La La Land\" Soundtrack</td>\n",
              "      <td>149706</td>\n",
              "    </tr>\n",
              "    <tr>\n",
              "      <th>31934</th>\n",
              "      <td>2022-01-02 06:03</td>\n",
              "      <td>Coldplay</td>\n",
              "      <td>Sparks</td>\n",
              "      <td>227093</td>\n",
              "    </tr>\n",
              "  </tbody>\n",
              "</table>\n",
              "</div>\n",
              "      <button class=\"colab-df-convert\" onclick=\"convertToInteractive('df-874aa832-4a85-4b8b-acba-793b544250d2')\"\n",
              "              title=\"Convert this dataframe to an interactive table.\"\n",
              "              style=\"display:none;\">\n",
              "        \n",
              "  <svg xmlns=\"http://www.w3.org/2000/svg\" height=\"24px\"viewBox=\"0 0 24 24\"\n",
              "       width=\"24px\">\n",
              "    <path d=\"M0 0h24v24H0V0z\" fill=\"none\"/>\n",
              "    <path d=\"M18.56 5.44l.94 2.06.94-2.06 2.06-.94-2.06-.94-.94-2.06-.94 2.06-2.06.94zm-11 1L8.5 8.5l.94-2.06 2.06-.94-2.06-.94L8.5 2.5l-.94 2.06-2.06.94zm10 10l.94 2.06.94-2.06 2.06-.94-2.06-.94-.94-2.06-.94 2.06-2.06.94z\"/><path d=\"M17.41 7.96l-1.37-1.37c-.4-.4-.92-.59-1.43-.59-.52 0-1.04.2-1.43.59L10.3 9.45l-7.72 7.72c-.78.78-.78 2.05 0 2.83L4 21.41c.39.39.9.59 1.41.59.51 0 1.02-.2 1.41-.59l7.78-7.78 2.81-2.81c.8-.78.8-2.07 0-2.86zM5.41 20L4 18.59l7.72-7.72 1.47 1.35L5.41 20z\"/>\n",
              "  </svg>\n",
              "      </button>\n",
              "      \n",
              "  <style>\n",
              "    .colab-df-container {\n",
              "      display:flex;\n",
              "      flex-wrap:wrap;\n",
              "      gap: 12px;\n",
              "    }\n",
              "\n",
              "    .colab-df-convert {\n",
              "      background-color: #E8F0FE;\n",
              "      border: none;\n",
              "      border-radius: 50%;\n",
              "      cursor: pointer;\n",
              "      display: none;\n",
              "      fill: #1967D2;\n",
              "      height: 32px;\n",
              "      padding: 0 0 0 0;\n",
              "      width: 32px;\n",
              "    }\n",
              "\n",
              "    .colab-df-convert:hover {\n",
              "      background-color: #E2EBFA;\n",
              "      box-shadow: 0px 1px 2px rgba(60, 64, 67, 0.3), 0px 1px 3px 1px rgba(60, 64, 67, 0.15);\n",
              "      fill: #174EA6;\n",
              "    }\n",
              "\n",
              "    [theme=dark] .colab-df-convert {\n",
              "      background-color: #3B4455;\n",
              "      fill: #D2E3FC;\n",
              "    }\n",
              "\n",
              "    [theme=dark] .colab-df-convert:hover {\n",
              "      background-color: #434B5C;\n",
              "      box-shadow: 0px 1px 3px 1px rgba(0, 0, 0, 0.15);\n",
              "      filter: drop-shadow(0px 1px 2px rgba(0, 0, 0, 0.3));\n",
              "      fill: #FFFFFF;\n",
              "    }\n",
              "  </style>\n",
              "\n",
              "      <script>\n",
              "        const buttonEl =\n",
              "          document.querySelector('#df-874aa832-4a85-4b8b-acba-793b544250d2 button.colab-df-convert');\n",
              "        buttonEl.style.display =\n",
              "          google.colab.kernel.accessAllowed ? 'block' : 'none';\n",
              "\n",
              "        async function convertToInteractive(key) {\n",
              "          const element = document.querySelector('#df-874aa832-4a85-4b8b-acba-793b544250d2');\n",
              "          const dataTable =\n",
              "            await google.colab.kernel.invokeFunction('convertToInteractive',\n",
              "                                                     [key], {});\n",
              "          if (!dataTable) return;\n",
              "\n",
              "          const docLinkHtml = 'Like what you see? Visit the ' +\n",
              "            '<a target=\"_blank\" href=https://colab.research.google.com/notebooks/data_table.ipynb>data table notebook</a>'\n",
              "            + ' to learn more about interactive tables.';\n",
              "          element.innerHTML = '';\n",
              "          dataTable['output_type'] = 'display_data';\n",
              "          await google.colab.output.renderOutput(dataTable, element);\n",
              "          const docLink = document.createElement('div');\n",
              "          docLink.innerHTML = docLinkHtml;\n",
              "          element.appendChild(docLink);\n",
              "        }\n",
              "      </script>\n",
              "    </div>\n",
              "  </div>\n",
              "  "
            ]
          },
          "metadata": {},
          "execution_count": 23
        }
      ]
    },
    {
      "cell_type": "code",
      "source": [
        "df.count()"
      ],
      "metadata": {
        "colab": {
          "base_uri": "https://localhost:8080/"
        },
        "id": "Rwm76z1IQKsW",
        "outputId": "72fc16d5-e046-4271-c99f-d182e7006979"
      },
      "execution_count": 24,
      "outputs": [
        {
          "output_type": "execute_result",
          "data": {
            "text/plain": [
              "endTime       12265\n",
              "artistName    12265\n",
              "trackName     12265\n",
              "msPlayed      12265\n",
              "dtype: int64"
            ]
          },
          "metadata": {},
          "execution_count": 24
        }
      ]
    },
    {
      "cell_type": "markdown",
      "source": [
        "# Defining Functions\n",
        "totalUniqueArtist(df), totalUniqueTrack(df), totalStreams(df), topNArtist(df, n), filterByArtist, noStreamsTrack"
      ],
      "metadata": {
        "id": "y203YDof4bVv"
      }
    },
    {
      "cell_type": "code",
      "source": [
        "# Total Unique Artist\n",
        "def totalUniqueArtist(df_name):\n",
        "    np.sort(df_name['artistName'].unique())\n",
        "    print(f\"Total Unique Artist : {df_name['artistName'].nunique()} Artists\")"
      ],
      "metadata": {
        "id": "xcI1NxZy38Jp"
      },
      "execution_count": 26,
      "outputs": []
    },
    {
      "cell_type": "markdown",
      "source": [
        "This function is to count how many artists I listen to."
      ],
      "metadata": {
        "id": "9BO4eR-tvc0A"
      }
    },
    {
      "cell_type": "code",
      "source": [
        "# Total Unique Track\n",
        "def totalUniqueTrack(df):\n",
        "  np.sort(df['trackName'].unique())\n",
        "  print(f\"Total Unique Track : {df['trackName'].nunique()} Tracks\")"
      ],
      "metadata": {
        "id": "LDTiGYu5NOxc"
      },
      "execution_count": 27,
      "outputs": []
    },
    {
      "cell_type": "markdown",
      "source": [
        "This function is to count how many songs I listen to."
      ],
      "metadata": {
        "id": "MNPTeGUjvt0e"
      }
    },
    {
      "cell_type": "code",
      "source": [
        "# Total Streams\n",
        "def totalStreams(df):\n",
        "  minsPlayed = (df['msPlayed'].sum())/(1000*60)\n",
        "  print(f\"Total Minutes Stream : {minsPlayed} minutes\")"
      ],
      "metadata": {
        "id": "NssNKCs3NoV5"
      },
      "execution_count": 38,
      "outputs": []
    },
    {
      "cell_type": "markdown",
      "source": [
        "This function is to accumulate total streams (in minutes)."
      ],
      "metadata": {
        "id": "t3aEooUvvx6d"
      }
    },
    {
      "cell_type": "code",
      "source": [
        "# Determine top n artists\n",
        "def topNartists(df, top, plot=True):\n",
        "    print(f'Top {top} Artists')\n",
        "    df_topN = df.groupby('artistName', as_index=False) \\\n",
        "        .agg({'endTime':'count', 'msPlayed':'sum'}) \\\n",
        "        .rename(columns={'endTime':'noStreams', 'msPlayed':'streamTimeMs'})\n",
        "    df_topN['streamTimeHr'] = df_topN['streamTimeMs']/(1000*60*60)\n",
        "    df_topN = df_topN.sort_values(by=['noStreams'], ascending=False)\n",
        "    df_topN = df_topN.head(top)\n",
        "    df_topN = df_topN.drop('streamTimeMs', axis=1)\n",
        "    \n",
        "    #Visualization\n",
        "    plt.figure(figsize=(7,3))\n",
        "    sns.barplot(df_topN['artistName'], df_topN['noStreams'], alpha=0.8)\n",
        "    # plt.stem(artist, noStreams)\n",
        "    plt.title(f'Top {top} Artists')\n",
        "    plt.ylabel('Number of Streams', fontsize=12)\n",
        "    plt.xticks(rotation=90)\n",
        "    plt.xlabel('Artist', fontsize=12)\n",
        "    plt.show()\n",
        "\n",
        "    print(df_topN)\n",
        "    return df_topN"
      ],
      "metadata": {
        "id": "SoPd0QVV1IM7"
      },
      "execution_count": 29,
      "outputs": []
    },
    {
      "cell_type": "markdown",
      "source": [
        "This function is to determine top n artists that I listen to and visualize it into barchart."
      ],
      "metadata": {
        "id": "mCdv6WPe2qYv"
      }
    },
    {
      "cell_type": "code",
      "source": [
        "# Determine top n tracks\n",
        "def topNtracks(df, n, plot=True):\n",
        "    print('Top ' + str(n) + ' Tracks')\n",
        "    df_topN = df.groupby(['trackName', 'artistName'], as_index=False) \\\n",
        "        .agg({'endTime':'count', 'msPlayed':'sum'}) \\\n",
        "        .rename(columns={'endTime':'noStreams', 'msPlayed':'streamTimeMs'})\n",
        "    df_topN['streamTimeHr'] = df_topN['streamTimeMs']/(1000*60*60)\n",
        "    df_topN = df_topN.sort_values(by=['noStreams'], ascending=False)\n",
        "    df_topN = df_topN.head(n)\n",
        "    df_topN = df_topN.drop('streamTimeMs', axis=1)\n",
        "\n",
        "    return df_topN"
      ],
      "metadata": {
        "id": "XTIo80_9__p7"
      },
      "execution_count": 30,
      "outputs": []
    },
    {
      "cell_type": "markdown",
      "source": [
        "This function is to determine top n tracks which sorted by number of streams for a track."
      ],
      "metadata": {
        "id": "2OwazflN-X39"
      }
    },
    {
      "cell_type": "code",
      "source": [
        "# Filter by Artist\n",
        "def filterByArtist(artist):\n",
        "  filter = df[df['artistName'] == artist]\n",
        "  filter = filter.groupby(['trackName']).agg({'endTime':'count','msPlayed':'sum'}).rename(columns={'endTime':'noStreams', 'msPlayed':'streamTimeMs'})\n",
        "  filter['streamTimeHr'] = filter['streamTimeMs']/(1000*60*60)\n",
        "  filter = filter.sort_values(by=['noStreams'], ascending=False)\n",
        "  filter = filter.drop('streamTimeMs', axis=1)\n",
        "  return filter"
      ],
      "metadata": {
        "id": "VJvwBpN80RGg"
      },
      "execution_count": 31,
      "outputs": []
    },
    {
      "cell_type": "markdown",
      "source": [
        "This function is to see which tracks that I have listened from a particular artist as well as how many times I've streamed the tracks."
      ],
      "metadata": {
        "id": "dc01ilPi-gT1"
      }
    },
    {
      "cell_type": "code",
      "source": [
        "# Number of Streams\n",
        "def noStreamsTrack(track, artist):\n",
        "  track = df[df['trackName'] == track]\n",
        "  artist = df[df['artistName'] == artist]\n",
        "  return [track['trackName'].count()]"
      ],
      "metadata": {
        "id": "0SkfBncs5c42"
      },
      "execution_count": 32,
      "outputs": []
    },
    {
      "cell_type": "markdown",
      "source": [
        "This fuction is to count how many times a particular track being streamed."
      ],
      "metadata": {
        "id": "fKgTl_sD_UB_"
      }
    },
    {
      "cell_type": "markdown",
      "source": [
        "# Exploratory Data Analysis"
      ],
      "metadata": {
        "id": "-g0hFRD2Amvr"
      }
    },
    {
      "cell_type": "code",
      "source": [
        "totalUniqueArtist(df)\n",
        "totalUniqueTrack(df)\n",
        "totalStreams(df)"
      ],
      "metadata": {
        "colab": {
          "base_uri": "https://localhost:8080/"
        },
        "id": "Yy1FhqFKofAa",
        "outputId": "d82e481c-fb39-41d2-db6a-b103cd13c35b"
      },
      "execution_count": 39,
      "outputs": [
        {
          "output_type": "stream",
          "name": "stdout",
          "text": [
            "Total Unique Artist : 1956 Artists\n",
            "Total Unique Track : 4713 Tracks\n",
            "Total Minutes Stream : 40080.155516666666 minutes\n"
          ]
        }
      ]
    },
    {
      "cell_type": "markdown",
      "source": [
        "For the first half of 2022, I listened to **1.956 artists** and **4.713 tracks** for **40.080 minutes**."
      ],
      "metadata": {
        "id": "EcBJ0iouQjKt"
      }
    },
    {
      "cell_type": "code",
      "source": [
        "topNartists(df, 20)"
      ],
      "metadata": {
        "colab": {
          "base_uri": "https://localhost:8080/",
          "height": 1000
        },
        "id": "clQS9YHNpgfo",
        "outputId": "0363cc91-5108-4e2d-d1ae-c1c3b7ec7458"
      },
      "execution_count": 40,
      "outputs": [
        {
          "output_type": "stream",
          "name": "stdout",
          "text": [
            "Top 20 Artists\n"
          ]
        },
        {
          "output_type": "stream",
          "name": "stderr",
          "text": [
            "/usr/local/lib/python3.7/dist-packages/seaborn/_decorators.py:43: FutureWarning: Pass the following variables as keyword args: x, y. From version 0.12, the only valid positional argument will be `data`, and passing other arguments without an explicit keyword will result in an error or misinterpretation.\n",
            "  FutureWarning\n"
          ]
        },
        {
          "output_type": "display_data",
          "data": {
            "text/plain": [
              "<Figure size 504x216 with 1 Axes>"
            ],
            "image/png": "[encoded data removed]"
          },
          "metadata": {
            "needs_background": "light"
          }
        },
        {
          "output_type": "stream",
          "name": "stdout",
          "text": [
            "                artistName  noStreams  streamTimeHr\n",
            "440                ENHYPEN        684     31.462951\n",
            "359                   DAY6        580     28.959484\n",
            "18     5 Seconds of Summer        572     30.129983\n",
            "632           Harry Styles        315     14.387106\n",
            "708                JANNABI        304     16.571019\n",
            "1156         One Direction        292     15.272810\n",
            "1764                WONPIL        221     12.738551\n",
            "1088             NCT DREAM        188      9.602183\n",
            "1141           ONE OK ROCK        153      9.640536\n",
            "890            LE SSERAFIM        129      6.413367\n",
            "360     DAY6 (Even of Day)        120      6.496103\n",
            "1342                 STAYC         95      5.031726\n",
            "1870             blink-182         94      5.065493\n",
            "1911                 keshi         93      4.503994\n",
            "1167             P1Harmony         89      4.931583\n",
            "961          Luke Hemmings         83      5.140488\n",
            "1848                  ZAYN         80      4.091398\n",
            "1078   My Chemical Romance         80      4.815214\n",
            "372                DPR IAN         79      4.137116\n",
            "238   Bring Me The Horizon         74      4.460429\n"
          ]
        },
        {
          "output_type": "execute_result",
          "data": {
            "text/plain": [
              "                artistName  noStreams  streamTimeHr\n",
              "440                ENHYPEN        684     31.462951\n",
              "359                   DAY6        580     28.959484\n",
              "18     5 Seconds of Summer        572     30.129983\n",
              "632           Harry Styles        315     14.387106\n",
              "708                JANNABI        304     16.571019\n",
              "1156         One Direction        292     15.272810\n",
              "1764                WONPIL        221     12.738551\n",
              "1088             NCT DREAM        188      9.602183\n",
              "1141           ONE OK ROCK        153      9.640536\n",
              "890            LE SSERAFIM        129      6.413367\n",
              "360     DAY6 (Even of Day)        120      6.496103\n",
              "1342                 STAYC         95      5.031726\n",
              "1870             blink-182         94      5.065493\n",
              "1911                 keshi         93      4.503994\n",
              "1167             P1Harmony         89      4.931583\n",
              "961          Luke Hemmings         83      5.140488\n",
              "1848                  ZAYN         80      4.091398\n",
              "1078   My Chemical Romance         80      4.815214\n",
              "372                DPR IAN         79      4.137116\n",
              "238   Bring Me The Horizon         74      4.460429"
            ],
            "text/html": [
              "\n",
              "  <div id=\"df-985e6b8c-7974-4f8e-9c31-bc5b11411141\">\n",
              "    <div class=\"colab-df-container\">\n",
              "      <div>\n",
              "<style scoped>\n",
              "    .dataframe tbody tr th:only-of-type {\n",
              "        vertical-align: middle;\n",
              "    }\n",
              "\n",
              "    .dataframe tbody tr th {\n",
              "        vertical-align: top;\n",
              "    }\n",
              "\n",
              "    .dataframe thead th {\n",
              "        text-align: right;\n",
              "    }\n",
              "</style>\n",
              "<table border=\"1\" class=\"dataframe\">\n",
              "  <thead>\n",
              "    <tr style=\"text-align: right;\">\n",
              "      <th></th>\n",
              "      <th>artistName</th>\n",
              "      <th>noStreams</th>\n",
              "      <th>streamTimeHr</th>\n",
              "    </tr>\n",
              "  </thead>\n",
              "  <tbody>\n",
              "    <tr>\n",
              "      <th>440</th>\n",
              "      <td>ENHYPEN</td>\n",
              "      <td>684</td>\n",
              "      <td>31.462951</td>\n",
              "    </tr>\n",
              "    <tr>\n",
              "      <th>359</th>\n",
              "      <td>DAY6</td>\n",
              "      <td>580</td>\n",
              "      <td>28.959484</td>\n",
              "    </tr>\n",
              "    <tr>\n",
              "      <th>18</th>\n",
              "      <td>5 Seconds of Summer</td>\n",
              "      <td>572</td>\n",
              "      <td>30.129983</td>\n",
              "    </tr>\n",
              "    <tr>\n",
              "      <th>632</th>\n",
              "      <td>Harry Styles</td>\n",
              "      <td>315</td>\n",
              "      <td>14.387106</td>\n",
              "    </tr>\n",
              "    <tr>\n",
              "      <th>708</th>\n",
              "      <td>JANNABI</td>\n",
              "      <td>304</td>\n",
              "      <td>16.571019</td>\n",
              "    </tr>\n",
              "    <tr>\n",
              "      <th>1156</th>\n",
              "      <td>One Direction</td>\n",
              "      <td>292</td>\n",
              "      <td>15.272810</td>\n",
              "    </tr>\n",
              "    <tr>\n",
              "      <th>1764</th>\n",
              "      <td>WONPIL</td>\n",
              "      <td>221</td>\n",
              "      <td>12.738551</td>\n",
              "    </tr>\n",
              "    <tr>\n",
              "      <th>1088</th>\n",
              "      <td>NCT DREAM</td>\n",
              "      <td>188</td>\n",
              "      <td>9.602183</td>\n",
              "    </tr>\n",
              "    <tr>\n",
              "      <th>1141</th>\n",
              "      <td>ONE OK ROCK</td>\n",
              "      <td>153</td>\n",
              "      <td>9.640536</td>\n",
              "    </tr>\n",
              "    <tr>\n",
              "      <th>890</th>\n",
              "      <td>LE SSERAFIM</td>\n",
              "      <td>129</td>\n",
              "      <td>6.413367</td>\n",
              "    </tr>\n",
              "    <tr>\n",
              "      <th>360</th>\n",
              "      <td>DAY6 (Even of Day)</td>\n",
              "      <td>120</td>\n",
              "      <td>6.496103</td>\n",
              "    </tr>\n",
              "    <tr>\n",
              "      <th>1342</th>\n",
              "      <td>STAYC</td>\n",
              "      <td>95</td>\n",
              "      <td>5.031726</td>\n",
              "    </tr>\n",
              "    <tr>\n",
              "      <th>1870</th>\n",
              "      <td>blink-182</td>\n",
              "      <td>94</td>\n",
              "      <td>5.065493</td>\n",
              "    </tr>\n",
              "    <tr>\n",
              "      <th>1911</th>\n",
              "      <td>keshi</td>\n",
              "      <td>93</td>\n",
              "      <td>4.503994</td>\n",
              "    </tr>\n",
              "    <tr>\n",
              "      <th>1167</th>\n",
              "      <td>P1Harmony</td>\n",
              "      <td>89</td>\n",
              "      <td>4.931583</td>\n",
              "    </tr>\n",
              "    <tr>\n",
              "      <th>961</th>\n",
              "      <td>Luke Hemmings</td>\n",
              "      <td>83</td>\n",
              "      <td>5.140488</td>\n",
              "    </tr>\n",
              "    <tr>\n",
              "      <th>1848</th>\n",
              "      <td>ZAYN</td>\n",
              "      <td>80</td>\n",
              "      <td>4.091398</td>\n",
              "    </tr>\n",
              "    <tr>\n",
              "      <th>1078</th>\n",
              "      <td>My Chemical Romance</td>\n",
              "      <td>80</td>\n",
              "      <td>4.815214</td>\n",
              "    </tr>\n",
              "    <tr>\n",
              "      <th>372</th>\n",
              "      <td>DPR IAN</td>\n",
              "      <td>79</td>\n",
              "      <td>4.137116</td>\n",
              "    </tr>\n",
              "    <tr>\n",
              "      <th>238</th>\n",
              "      <td>Bring Me The Horizon</td>\n",
              "      <td>74</td>\n",
              "      <td>4.460429</td>\n",
              "    </tr>\n",
              "  </tbody>\n",
              "</table>\n",
              "</div>\n",
              "      <button class=\"colab-df-convert\" onclick=\"convertToInteractive('df-985e6b8c-7974-4f8e-9c31-bc5b11411141')\"\n",
              "              title=\"Convert this dataframe to an interactive table.\"\n",
              "              style=\"display:none;\">\n",
              "        \n",
              "  <svg xmlns=\"http://www.w3.org/2000/svg\" height=\"24px\"viewBox=\"0 0 24 24\"\n",
              "       width=\"24px\">\n",
              "    <path d=\"M0 0h24v24H0V0z\" fill=\"none\"/>\n",
              "    <path d=\"M18.56 5.44l.94 2.06.94-2.06 2.06-.94-2.06-.94-.94-2.06-.94 2.06-2.06.94zm-11 1L8.5 8.5l.94-2.06 2.06-.94-2.06-.94L8.5 2.5l-.94 2.06-2.06.94zm10 10l.94 2.06.94-2.06 2.06-.94-2.06-.94-.94-2.06-.94 2.06-2.06.94z\"/><path d=\"M17.41 7.96l-1.37-1.37c-.4-.4-.92-.59-1.43-.59-.52 0-1.04.2-1.43.59L10.3 9.45l-7.72 7.72c-.78.78-.78 2.05 0 2.83L4 21.41c.39.39.9.59 1.41.59.51 0 1.02-.2 1.41-.59l7.78-7.78 2.81-2.81c.8-.78.8-2.07 0-2.86zM5.41 20L4 18.59l7.72-7.72 1.47 1.35L5.41 20z\"/>\n",
              "  </svg>\n",
              "      </button>\n",
              "      \n",
              "  <style>\n",
              "    .colab-df-container {\n",
              "      display:flex;\n",
              "      flex-wrap:wrap;\n",
              "      gap: 12px;\n",
              "    }\n",
              "\n",
              "    .colab-df-convert {\n",
              "      background-color: #E8F0FE;\n",
              "      border: none;\n",
              "      border-radius: 50%;\n",
              "      cursor: pointer;\n",
              "      display: none;\n",
              "      fill: #1967D2;\n",
              "      height: 32px;\n",
              "      padding: 0 0 0 0;\n",
              "      width: 32px;\n",
              "    }\n",
              "\n",
              "    .colab-df-convert:hover {\n",
              "      background-color: #E2EBFA;\n",
              "      box-shadow: 0px 1px 2px rgba(60, 64, 67, 0.3), 0px 1px 3px 1px rgba(60, 64, 67, 0.15);\n",
              "      fill: #174EA6;\n",
              "    }\n",
              "\n",
              "    [theme=dark] .colab-df-convert {\n",
              "      background-color: #3B4455;\n",
              "      fill: #D2E3FC;\n",
              "    }\n",
              "\n",
              "    [theme=dark] .colab-df-convert:hover {\n",
              "      background-color: #434B5C;\n",
              "      box-shadow: 0px 1px 3px 1px rgba(0, 0, 0, 0.15);\n",
              "      filter: drop-shadow(0px 1px 2px rgba(0, 0, 0, 0.3));\n",
              "      fill: #FFFFFF;\n",
              "    }\n",
              "  </style>\n",
              "\n",
              "      <script>\n",
              "        const buttonEl =\n",
              "          document.querySelector('#df-985e6b8c-7974-4f8e-9c31-bc5b11411141 button.colab-df-convert');\n",
              "        buttonEl.style.display =\n",
              "          google.colab.kernel.accessAllowed ? 'block' : 'none';\n",
              "\n",
              "        async function convertToInteractive(key) {\n",
              "          const element = document.querySelector('#df-985e6b8c-7974-4f8e-9c31-bc5b11411141');\n",
              "          const dataTable =\n",
              "            await google.colab.kernel.invokeFunction('convertToInteractive',\n",
              "                                                     [key], {});\n",
              "          if (!dataTable) return;\n",
              "\n",
              "          const docLinkHtml = 'Like what you see? Visit the ' +\n",
              "            '<a target=\"_blank\" href=https://colab.research.google.com/notebooks/data_table.ipynb>data table notebook</a>'\n",
              "            + ' to learn more about interactive tables.';\n",
              "          element.innerHTML = '';\n",
              "          dataTable['output_type'] = 'display_data';\n",
              "          await google.colab.output.renderOutput(dataTable, element);\n",
              "          const docLink = document.createElement('div');\n",
              "          docLink.innerHTML = docLinkHtml;\n",
              "          element.appendChild(docLink);\n",
              "        }\n",
              "      </script>\n",
              "    </div>\n",
              "  </div>\n",
              "  "
            ]
          },
          "metadata": {},
          "execution_count": 40
        }
      ]
    },
    {
      "cell_type": "markdown",
      "source": [
        "So, for the first half of 2022 I listen to **ENHYPEN** the most with total number of streams **684 times** a.k.a **31,5 hours**! 😲"
      ],
      "metadata": {
        "id": "TTvtdlccc1H5"
      }
    },
    {
      "cell_type": "code",
      "source": [
        "topNtracks(df, 10)"
      ],
      "metadata": {
        "colab": {
          "base_uri": "https://localhost:8080/",
          "height": 380
        },
        "id": "s-4YLG4iqfAL",
        "outputId": "f96c3c6b-f514-420e-fbac-9faff860e5d6"
      },
      "execution_count": 41,
      "outputs": [
        {
          "output_type": "stream",
          "name": "stdout",
          "text": [
            "Top 10 Tracks\n"
          ]
        },
        {
          "output_type": "execute_result",
          "data": {
            "text/plain": [
              "               trackName             artistName  noStreams  streamTimeHr\n",
              "1330       Forget Me Not                ENHYPEN        157      8.508853\n",
              "643        COMPLETE MESS    5 Seconds of Summer         82      4.206428\n",
              "314            As It Was           Harry Styles         62      2.797469\n",
              "3039       Polaroid Love                ENHYPEN         50      2.512811\n",
              "521       Blessed-Cursed                ENHYPEN         43      2.021916\n",
              "3819        Take My Hand    5 Seconds of Summer         42      2.455573\n",
              "4402    Wherever you are            ONE OK ROCK         41      3.132294\n",
              "3208    Right Through Me     DAY6 (Even of Day)         41      2.216649\n",
              "113   A Man Without Love  Engelbert Humperdinck         40      1.836449\n",
              "131            A journey                 WONPIL         39      2.121079"
            ],
            "text/html": [
              "\n",
              "  <div id=\"df-9daca0cb-b186-41ba-9528-81c143a1b637\">\n",
              "    <div class=\"colab-df-container\">\n",
              "      <div>\n",
              "<style scoped>\n",
              "    .dataframe tbody tr th:only-of-type {\n",
              "        vertical-align: middle;\n",
              "    }\n",
              "\n",
              "    .dataframe tbody tr th {\n",
              "        vertical-align: top;\n",
              "    }\n",
              "\n",
              "    .dataframe thead th {\n",
              "        text-align: right;\n",
              "    }\n",
              "</style>\n",
              "<table border=\"1\" class=\"dataframe\">\n",
              "  <thead>\n",
              "    <tr style=\"text-align: right;\">\n",
              "      <th></th>\n",
              "      <th>trackName</th>\n",
              "      <th>artistName</th>\n",
              "      <th>noStreams</th>\n",
              "      <th>streamTimeHr</th>\n",
              "    </tr>\n",
              "  </thead>\n",
              "  <tbody>\n",
              "    <tr>\n",
              "      <th>1330</th>\n",
              "      <td>Forget Me Not</td>\n",
              "      <td>ENHYPEN</td>\n",
              "      <td>157</td>\n",
              "      <td>8.508853</td>\n",
              "    </tr>\n",
              "    <tr>\n",
              "      <th>643</th>\n",
              "      <td>COMPLETE MESS</td>\n",
              "      <td>5 Seconds of Summer</td>\n",
              "      <td>82</td>\n",
              "      <td>4.206428</td>\n",
              "    </tr>\n",
              "    <tr>\n",
              "      <th>314</th>\n",
              "      <td>As It Was</td>\n",
              "      <td>Harry Styles</td>\n",
              "      <td>62</td>\n",
              "      <td>2.797469</td>\n",
              "    </tr>\n",
              "    <tr>\n",
              "      <th>3039</th>\n",
              "      <td>Polaroid Love</td>\n",
              "      <td>ENHYPEN</td>\n",
              "      <td>50</td>\n",
              "      <td>2.512811</td>\n",
              "    </tr>\n",
              "    <tr>\n",
              "      <th>521</th>\n",
              "      <td>Blessed-Cursed</td>\n",
              "      <td>ENHYPEN</td>\n",
              "      <td>43</td>\n",
              "      <td>2.021916</td>\n",
              "    </tr>\n",
              "    <tr>\n",
              "      <th>3819</th>\n",
              "      <td>Take My Hand</td>\n",
              "      <td>5 Seconds of Summer</td>\n",
              "      <td>42</td>\n",
              "      <td>2.455573</td>\n",
              "    </tr>\n",
              "    <tr>\n",
              "      <th>4402</th>\n",
              "      <td>Wherever you are</td>\n",
              "      <td>ONE OK ROCK</td>\n",
              "      <td>41</td>\n",
              "      <td>3.132294</td>\n",
              "    </tr>\n",
              "    <tr>\n",
              "      <th>3208</th>\n",
              "      <td>Right Through Me</td>\n",
              "      <td>DAY6 (Even of Day)</td>\n",
              "      <td>41</td>\n",
              "      <td>2.216649</td>\n",
              "    </tr>\n",
              "    <tr>\n",
              "      <th>113</th>\n",
              "      <td>A Man Without Love</td>\n",
              "      <td>Engelbert Humperdinck</td>\n",
              "      <td>40</td>\n",
              "      <td>1.836449</td>\n",
              "    </tr>\n",
              "    <tr>\n",
              "      <th>131</th>\n",
              "      <td>A journey</td>\n",
              "      <td>WONPIL</td>\n",
              "      <td>39</td>\n",
              "      <td>2.121079</td>\n",
              "    </tr>\n",
              "  </tbody>\n",
              "</table>\n",
              "</div>\n",
              "      <button class=\"colab-df-convert\" onclick=\"convertToInteractive('df-9daca0cb-b186-41ba-9528-81c143a1b637')\"\n",
              "              title=\"Convert this dataframe to an interactive table.\"\n",
              "              style=\"display:none;\">\n",
              "        \n",
              "  <svg xmlns=\"http://www.w3.org/2000/svg\" height=\"24px\"viewBox=\"0 0 24 24\"\n",
              "       width=\"24px\">\n",
              "    <path d=\"M0 0h24v24H0V0z\" fill=\"none\"/>\n",
              "    <path d=\"M18.56 5.44l.94 2.06.94-2.06 2.06-.94-2.06-.94-.94-2.06-.94 2.06-2.06.94zm-11 1L8.5 8.5l.94-2.06 2.06-.94-2.06-.94L8.5 2.5l-.94 2.06-2.06.94zm10 10l.94 2.06.94-2.06 2.06-.94-2.06-.94-.94-2.06-.94 2.06-2.06.94z\"/><path d=\"M17.41 7.96l-1.37-1.37c-.4-.4-.92-.59-1.43-.59-.52 0-1.04.2-1.43.59L10.3 9.45l-7.72 7.72c-.78.78-.78 2.05 0 2.83L4 21.41c.39.39.9.59 1.41.59.51 0 1.02-.2 1.41-.59l7.78-7.78 2.81-2.81c.8-.78.8-2.07 0-2.86zM5.41 20L4 18.59l7.72-7.72 1.47 1.35L5.41 20z\"/>\n",
              "  </svg>\n",
              "      </button>\n",
              "      \n",
              "  <style>\n",
              "    .colab-df-container {\n",
              "      display:flex;\n",
              "      flex-wrap:wrap;\n",
              "      gap: 12px;\n",
              "    }\n",
              "\n",
              "    .colab-df-convert {\n",
              "      background-color: #E8F0FE;\n",
              "      border: none;\n",
              "      border-radius: 50%;\n",
              "      cursor: pointer;\n",
              "      display: none;\n",
              "      fill: #1967D2;\n",
              "      height: 32px;\n",
              "      padding: 0 0 0 0;\n",
              "      width: 32px;\n",
              "    }\n",
              "\n",
              "    .colab-df-convert:hover {\n",
              "      background-color: #E2EBFA;\n",
              "      box-shadow: 0px 1px 2px rgba(60, 64, 67, 0.3), 0px 1px 3px 1px rgba(60, 64, 67, 0.15);\n",
              "      fill: #174EA6;\n",
              "    }\n",
              "\n",
              "    [theme=dark] .colab-df-convert {\n",
              "      background-color: #3B4455;\n",
              "      fill: #D2E3FC;\n",
              "    }\n",
              "\n",
              "    [theme=dark] .colab-df-convert:hover {\n",
              "      background-color: #434B5C;\n",
              "      box-shadow: 0px 1px 3px 1px rgba(0, 0, 0, 0.15);\n",
              "      filter: drop-shadow(0px 1px 2px rgba(0, 0, 0, 0.3));\n",
              "      fill: #FFFFFF;\n",
              "    }\n",
              "  </style>\n",
              "\n",
              "      <script>\n",
              "        const buttonEl =\n",
              "          document.querySelector('#df-9daca0cb-b186-41ba-9528-81c143a1b637 button.colab-df-convert');\n",
              "        buttonEl.style.display =\n",
              "          google.colab.kernel.accessAllowed ? 'block' : 'none';\n",
              "\n",
              "        async function convertToInteractive(key) {\n",
              "          const element = document.querySelector('#df-9daca0cb-b186-41ba-9528-81c143a1b637');\n",
              "          const dataTable =\n",
              "            await google.colab.kernel.invokeFunction('convertToInteractive',\n",
              "                                                     [key], {});\n",
              "          if (!dataTable) return;\n",
              "\n",
              "          const docLinkHtml = 'Like what you see? Visit the ' +\n",
              "            '<a target=\"_blank\" href=https://colab.research.google.com/notebooks/data_table.ipynb>data table notebook</a>'\n",
              "            + ' to learn more about interactive tables.';\n",
              "          element.innerHTML = '';\n",
              "          dataTable['output_type'] = 'display_data';\n",
              "          await google.colab.output.renderOutput(dataTable, element);\n",
              "          const docLink = document.createElement('div');\n",
              "          docLink.innerHTML = docLinkHtml;\n",
              "          element.appendChild(docLink);\n",
              "        }\n",
              "      </script>\n",
              "    </div>\n",
              "  </div>\n",
              "  "
            ]
          },
          "metadata": {},
          "execution_count": 41
        }
      ]
    },
    {
      "cell_type": "markdown",
      "source": [
        "Meanwhile the track that I listen to the most is **Forget Me Not by ENHYPEN** which I listen to for **157 times** or **8,5 hours**!"
      ],
      "metadata": {
        "id": "54pN5_r9dq9G"
      }
    },
    {
      "cell_type": "markdown",
      "source": [
        "Then, using `filterByArtist()` function I can see every tracks that I've played from the artist I selected. Let's take a look at one of my favorite singer, Harry Styles."
      ],
      "metadata": {
        "id": "seJV7TKyfHLS"
      }
    },
    {
      "cell_type": "code",
      "source": [
        "filterByArtist('Harry Styles')"
      ],
      "metadata": {
        "colab": {
          "base_uri": "https://localhost:8080/",
          "height": 739
        },
        "id": "58-z6g62qu3Y",
        "outputId": "88e1738a-ba3f-406d-83d9-c69c4a3ebce0"
      },
      "execution_count": 43,
      "outputs": [
        {
          "output_type": "execute_result",
          "data": {
            "text/plain": [
              "                              noStreams  streamTimeHr\n",
              "trackName                                            \n",
              "As It Was                            62      2.797469\n",
              "Daylight                             24      1.065154\n",
              "Boyfriends                           22      0.981991\n",
              "Satellite                            21      1.078025\n",
              "Music For a Sushi Restaurant         21      0.738379\n",
              "Love Of My Life                      21      1.027072\n",
              "Keep Driving                         20      0.683747\n",
              "Grapejuice                           20      0.902906\n",
              "Late Night Talking                   18      0.718590\n",
              "Cinema                               17      0.979630\n",
              "Daydreaming                          16      0.674243\n",
              "Little Freak                         15      0.747256\n",
              "Matilda                              12      0.745053\n",
              "Sunflower, Vol. 6                     6      0.369710\n",
              "Kiwi                                  5      0.157164\n",
              "Falling                               5      0.289583\n",
              "Treat People With Kindness            5      0.274092\n",
              "Watermelon Sugar                      2      0.096667\n",
              "Golden                                1      0.058029\n",
              "Sweet Creature                        1      0.000800\n",
              "Two Ghosts                            1      0.001548"
            ],
            "text/html": [
              "\n",
              "  <div id=\"df-8a81dcae-e7b3-48ae-ad14-ba5d4d606f95\">\n",
              "    <div class=\"colab-df-container\">\n",
              "      <div>\n",
              "<style scoped>\n",
              "    .dataframe tbody tr th:only-of-type {\n",
              "        vertical-align: middle;\n",
              "    }\n",
              "\n",
              "    .dataframe tbody tr th {\n",
              "        vertical-align: top;\n",
              "    }\n",
              "\n",
              "    .dataframe thead th {\n",
              "        text-align: right;\n",
              "    }\n",
              "</style>\n",
              "<table border=\"1\" class=\"dataframe\">\n",
              "  <thead>\n",
              "    <tr style=\"text-align: right;\">\n",
              "      <th></th>\n",
              "      <th>noStreams</th>\n",
              "      <th>streamTimeHr</th>\n",
              "    </tr>\n",
              "    <tr>\n",
              "      <th>trackName</th>\n",
              "      <th></th>\n",
              "      <th></th>\n",
              "    </tr>\n",
              "  </thead>\n",
              "  <tbody>\n",
              "    <tr>\n",
              "      <th>As It Was</th>\n",
              "      <td>62</td>\n",
              "      <td>2.797469</td>\n",
              "    </tr>\n",
              "    <tr>\n",
              "      <th>Daylight</th>\n",
              "      <td>24</td>\n",
              "      <td>1.065154</td>\n",
              "    </tr>\n",
              "    <tr>\n",
              "      <th>Boyfriends</th>\n",
              "      <td>22</td>\n",
              "      <td>0.981991</td>\n",
              "    </tr>\n",
              "    <tr>\n",
              "      <th>Satellite</th>\n",
              "      <td>21</td>\n",
              "      <td>1.078025</td>\n",
              "    </tr>\n",
              "    <tr>\n",
              "      <th>Music For a Sushi Restaurant</th>\n",
              "      <td>21</td>\n",
              "      <td>0.738379</td>\n",
              "    </tr>\n",
              "    <tr>\n",
              "      <th>Love Of My Life</th>\n",
              "      <td>21</td>\n",
              "      <td>1.027072</td>\n",
              "    </tr>\n",
              "    <tr>\n",
              "      <th>Keep Driving</th>\n",
              "      <td>20</td>\n",
              "      <td>0.683747</td>\n",
              "    </tr>\n",
              "    <tr>\n",
              "      <th>Grapejuice</th>\n",
              "      <td>20</td>\n",
              "      <td>0.902906</td>\n",
              "    </tr>\n",
              "    <tr>\n",
              "      <th>Late Night Talking</th>\n",
              "      <td>18</td>\n",
              "      <td>0.718590</td>\n",
              "    </tr>\n",
              "    <tr>\n",
              "      <th>Cinema</th>\n",
              "      <td>17</td>\n",
              "      <td>0.979630</td>\n",
              "    </tr>\n",
              "    <tr>\n",
              "      <th>Daydreaming</th>\n",
              "      <td>16</td>\n",
              "      <td>0.674243</td>\n",
              "    </tr>\n",
              "    <tr>\n",
              "      <th>Little Freak</th>\n",
              "      <td>15</td>\n",
              "      <td>0.747256</td>\n",
              "    </tr>\n",
              "    <tr>\n",
              "      <th>Matilda</th>\n",
              "      <td>12</td>\n",
              "      <td>0.745053</td>\n",
              "    </tr>\n",
              "    <tr>\n",
              "      <th>Sunflower, Vol. 6</th>\n",
              "      <td>6</td>\n",
              "      <td>0.369710</td>\n",
              "    </tr>\n",
              "    <tr>\n",
              "      <th>Kiwi</th>\n",
              "      <td>5</td>\n",
              "      <td>0.157164</td>\n",
              "    </tr>\n",
              "    <tr>\n",
              "      <th>Falling</th>\n",
              "      <td>5</td>\n",
              "      <td>0.289583</td>\n",
              "    </tr>\n",
              "    <tr>\n",
              "      <th>Treat People With Kindness</th>\n",
              "      <td>5</td>\n",
              "      <td>0.274092</td>\n",
              "    </tr>\n",
              "    <tr>\n",
              "      <th>Watermelon Sugar</th>\n",
              "      <td>2</td>\n",
              "      <td>0.096667</td>\n",
              "    </tr>\n",
              "    <tr>\n",
              "      <th>Golden</th>\n",
              "      <td>1</td>\n",
              "      <td>0.058029</td>\n",
              "    </tr>\n",
              "    <tr>\n",
              "      <th>Sweet Creature</th>\n",
              "      <td>1</td>\n",
              "      <td>0.000800</td>\n",
              "    </tr>\n",
              "    <tr>\n",
              "      <th>Two Ghosts</th>\n",
              "      <td>1</td>\n",
              "      <td>0.001548</td>\n",
              "    </tr>\n",
              "  </tbody>\n",
              "</table>\n",
              "</div>\n",
              "      <button class=\"colab-df-convert\" onclick=\"convertToInteractive('df-8a81dcae-e7b3-48ae-ad14-ba5d4d606f95')\"\n",
              "              title=\"Convert this dataframe to an interactive table.\"\n",
              "              style=\"display:none;\">\n",
              "        \n",
              "  <svg xmlns=\"http://www.w3.org/2000/svg\" height=\"24px\"viewBox=\"0 0 24 24\"\n",
              "       width=\"24px\">\n",
              "    <path d=\"M0 0h24v24H0V0z\" fill=\"none\"/>\n",
              "    <path d=\"M18.56 5.44l.94 2.06.94-2.06 2.06-.94-2.06-.94-.94-2.06-.94 2.06-2.06.94zm-11 1L8.5 8.5l.94-2.06 2.06-.94-2.06-.94L8.5 2.5l-.94 2.06-2.06.94zm10 10l.94 2.06.94-2.06 2.06-.94-2.06-.94-.94-2.06-.94 2.06-2.06.94z\"/><path d=\"M17.41 7.96l-1.37-1.37c-.4-.4-.92-.59-1.43-.59-.52 0-1.04.2-1.43.59L10.3 9.45l-7.72 7.72c-.78.78-.78 2.05 0 2.83L4 21.41c.39.39.9.59 1.41.59.51 0 1.02-.2 1.41-.59l7.78-7.78 2.81-2.81c.8-.78.8-2.07 0-2.86zM5.41 20L4 18.59l7.72-7.72 1.47 1.35L5.41 20z\"/>\n",
              "  </svg>\n",
              "      </button>\n",
              "      \n",
              "  <style>\n",
              "    .colab-df-container {\n",
              "      display:flex;\n",
              "      flex-wrap:wrap;\n",
              "      gap: 12px;\n",
              "    }\n",
              "\n",
              "    .colab-df-convert {\n",
              "      background-color: #E8F0FE;\n",
              "      border: none;\n",
              "      border-radius: 50%;\n",
              "      cursor: pointer;\n",
              "      display: none;\n",
              "      fill: #1967D2;\n",
              "      height: 32px;\n",
              "      padding: 0 0 0 0;\n",
              "      width: 32px;\n",
              "    }\n",
              "\n",
              "    .colab-df-convert:hover {\n",
              "      background-color: #E2EBFA;\n",
              "      box-shadow: 0px 1px 2px rgba(60, 64, 67, 0.3), 0px 1px 3px 1px rgba(60, 64, 67, 0.15);\n",
              "      fill: #174EA6;\n",
              "    }\n",
              "\n",
              "    [theme=dark] .colab-df-convert {\n",
              "      background-color: #3B4455;\n",
              "      fill: #D2E3FC;\n",
              "    }\n",
              "\n",
              "    [theme=dark] .colab-df-convert:hover {\n",
              "      background-color: #434B5C;\n",
              "      box-shadow: 0px 1px 3px 1px rgba(0, 0, 0, 0.15);\n",
              "      filter: drop-shadow(0px 1px 2px rgba(0, 0, 0, 0.3));\n",
              "      fill: #FFFFFF;\n",
              "    }\n",
              "  </style>\n",
              "\n",
              "      <script>\n",
              "        const buttonEl =\n",
              "          document.querySelector('#df-8a81dcae-e7b3-48ae-ad14-ba5d4d606f95 button.colab-df-convert');\n",
              "        buttonEl.style.display =\n",
              "          google.colab.kernel.accessAllowed ? 'block' : 'none';\n",
              "\n",
              "        async function convertToInteractive(key) {\n",
              "          const element = document.querySelector('#df-8a81dcae-e7b3-48ae-ad14-ba5d4d606f95');\n",
              "          const dataTable =\n",
              "            await google.colab.kernel.invokeFunction('convertToInteractive',\n",
              "                                                     [key], {});\n",
              "          if (!dataTable) return;\n",
              "\n",
              "          const docLinkHtml = 'Like what you see? Visit the ' +\n",
              "            '<a target=\"_blank\" href=https://colab.research.google.com/notebooks/data_table.ipynb>data table notebook</a>'\n",
              "            + ' to learn more about interactive tables.';\n",
              "          element.innerHTML = '';\n",
              "          dataTable['output_type'] = 'display_data';\n",
              "          await google.colab.output.renderOutput(dataTable, element);\n",
              "          const docLink = document.createElement('div');\n",
              "          docLink.innerHTML = docLinkHtml;\n",
              "          element.appendChild(docLink);\n",
              "        }\n",
              "      </script>\n",
              "    </div>\n",
              "  </div>\n",
              "  "
            ]
          },
          "metadata": {},
          "execution_count": 43
        }
      ]
    },
    {
      "cell_type": "markdown",
      "source": [
        "Out of every Harry Styles songs that I listen to turns out I listen to As It Was the most with total of 62 streams. Indeed, who doesn't love As It Was by Harry Styles 🙌🏻\n",
        "\n",
        "Here's what it looks like for another artist!"
      ],
      "metadata": {
        "id": "yPa8qCZTf-nt"
      }
    },
    {
      "cell_type": "code",
      "source": [
        "filterByArtist('JANNABI')"
      ],
      "metadata": {
        "colab": {
          "base_uri": "https://localhost:8080/",
          "height": 455
        },
        "id": "l_n6qi7nhQ2U",
        "outputId": "fb611759-842f-416e-a8f8-bafa7dbae7ae"
      },
      "execution_count": 45,
      "outputs": [
        {
          "output_type": "execute_result",
          "data": {
            "text/plain": [
              "                                       noStreams  streamTimeHr\n",
              "trackName                                                     \n",
              "for lovers who hesitate                       33      2.400998\n",
              "GRIPPIN’THEGREEN                              21      1.077636\n",
              "summerfallwinter sprinG.                      21      1.034439\n",
              "LADYBIRD                                      18      0.977499\n",
              "A Ballad of Non Le Jon                        12      0.603722\n",
              "...                                          ...           ...\n",
              "The moon                                       1      0.066111\n",
              "Like when we first met                         1      0.056667\n",
              "May I Laugh                                    1      0.047222\n",
              "Like when we first met - Instrumental          1      0.056667\n",
              "May I Laugh - Instrumental                     1      0.007569\n",
              "\n",
              "[72 rows x 2 columns]"
            ],
            "text/html": [
              "\n",
              "  <div id=\"df-64f199d4-94c4-4743-ad6c-b739e47d9c38\">\n",
              "    <div class=\"colab-df-container\">\n",
              "      <div>\n",
              "<style scoped>\n",
              "    .dataframe tbody tr th:only-of-type {\n",
              "        vertical-align: middle;\n",
              "    }\n",
              "\n",
              "    .dataframe tbody tr th {\n",
              "        vertical-align: top;\n",
              "    }\n",
              "\n",
              "    .dataframe thead th {\n",
              "        text-align: right;\n",
              "    }\n",
              "</style>\n",
              "<table border=\"1\" class=\"dataframe\">\n",
              "  <thead>\n",
              "    <tr style=\"text-align: right;\">\n",
              "      <th></th>\n",
              "      <th>noStreams</th>\n",
              "      <th>streamTimeHr</th>\n",
              "    </tr>\n",
              "    <tr>\n",
              "      <th>trackName</th>\n",
              "      <th></th>\n",
              "      <th></th>\n",
              "    </tr>\n",
              "  </thead>\n",
              "  <tbody>\n",
              "    <tr>\n",
              "      <th>for lovers who hesitate</th>\n",
              "      <td>33</td>\n",
              "      <td>2.400998</td>\n",
              "    </tr>\n",
              "    <tr>\n",
              "      <th>GRIPPIN’THEGREEN</th>\n",
              "      <td>21</td>\n",
              "      <td>1.077636</td>\n",
              "    </tr>\n",
              "    <tr>\n",
              "      <th>summerfallwinter sprinG.</th>\n",
              "      <td>21</td>\n",
              "      <td>1.034439</td>\n",
              "    </tr>\n",
              "    <tr>\n",
              "      <th>LADYBIRD</th>\n",
              "      <td>18</td>\n",
              "      <td>0.977499</td>\n",
              "    </tr>\n",
              "    <tr>\n",
              "      <th>A Ballad of Non Le Jon</th>\n",
              "      <td>12</td>\n",
              "      <td>0.603722</td>\n",
              "    </tr>\n",
              "    <tr>\n",
              "      <th>...</th>\n",
              "      <td>...</td>\n",
              "      <td>...</td>\n",
              "    </tr>\n",
              "    <tr>\n",
              "      <th>The moon</th>\n",
              "      <td>1</td>\n",
              "      <td>0.066111</td>\n",
              "    </tr>\n",
              "    <tr>\n",
              "      <th>Like when we first met</th>\n",
              "      <td>1</td>\n",
              "      <td>0.056667</td>\n",
              "    </tr>\n",
              "    <tr>\n",
              "      <th>May I Laugh</th>\n",
              "      <td>1</td>\n",
              "      <td>0.047222</td>\n",
              "    </tr>\n",
              "    <tr>\n",
              "      <th>Like when we first met - Instrumental</th>\n",
              "      <td>1</td>\n",
              "      <td>0.056667</td>\n",
              "    </tr>\n",
              "    <tr>\n",
              "      <th>May I Laugh - Instrumental</th>\n",
              "      <td>1</td>\n",
              "      <td>0.007569</td>\n",
              "    </tr>\n",
              "  </tbody>\n",
              "</table>\n",
              "<p>72 rows × 2 columns</p>\n",
              "</div>\n",
              "      <button class=\"colab-df-convert\" onclick=\"convertToInteractive('df-64f199d4-94c4-4743-ad6c-b739e47d9c38')\"\n",
              "              title=\"Convert this dataframe to an interactive table.\"\n",
              "              style=\"display:none;\">\n",
              "        \n",
              "  <svg xmlns=\"http://www.w3.org/2000/svg\" height=\"24px\"viewBox=\"0 0 24 24\"\n",
              "       width=\"24px\">\n",
              "    <path d=\"M0 0h24v24H0V0z\" fill=\"none\"/>\n",
              "    <path d=\"M18.56 5.44l.94 2.06.94-2.06 2.06-.94-2.06-.94-.94-2.06-.94 2.06-2.06.94zm-11 1L8.5 8.5l.94-2.06 2.06-.94-2.06-.94L8.5 2.5l-.94 2.06-2.06.94zm10 10l.94 2.06.94-2.06 2.06-.94-2.06-.94-.94-2.06-.94 2.06-2.06.94z\"/><path d=\"M17.41 7.96l-1.37-1.37c-.4-.4-.92-.59-1.43-.59-.52 0-1.04.2-1.43.59L10.3 9.45l-7.72 7.72c-.78.78-.78 2.05 0 2.83L4 21.41c.39.39.9.59 1.41.59.51 0 1.02-.2 1.41-.59l7.78-7.78 2.81-2.81c.8-.78.8-2.07 0-2.86zM5.41 20L4 18.59l7.72-7.72 1.47 1.35L5.41 20z\"/>\n",
              "  </svg>\n",
              "      </button>\n",
              "      \n",
              "  <style>\n",
              "    .colab-df-container {\n",
              "      display:flex;\n",
              "      flex-wrap:wrap;\n",
              "      gap: 12px;\n",
              "    }\n",
              "\n",
              "    .colab-df-convert {\n",
              "      background-color: #E8F0FE;\n",
              "      border: none;\n",
              "      border-radius: 50%;\n",
              "      cursor: pointer;\n",
              "      display: none;\n",
              "      fill: #1967D2;\n",
              "      height: 32px;\n",
              "      padding: 0 0 0 0;\n",
              "      width: 32px;\n",
              "    }\n",
              "\n",
              "    .colab-df-convert:hover {\n",
              "      background-color: #E2EBFA;\n",
              "      box-shadow: 0px 1px 2px rgba(60, 64, 67, 0.3), 0px 1px 3px 1px rgba(60, 64, 67, 0.15);\n",
              "      fill: #174EA6;\n",
              "    }\n",
              "\n",
              "    [theme=dark] .colab-df-convert {\n",
              "      background-color: #3B4455;\n",
              "      fill: #D2E3FC;\n",
              "    }\n",
              "\n",
              "    [theme=dark] .colab-df-convert:hover {\n",
              "      background-color: #434B5C;\n",
              "      box-shadow: 0px 1px 3px 1px rgba(0, 0, 0, 0.15);\n",
              "      filter: drop-shadow(0px 1px 2px rgba(0, 0, 0, 0.3));\n",
              "      fill: #FFFFFF;\n",
              "    }\n",
              "  </style>\n",
              "\n",
              "      <script>\n",
              "        const buttonEl =\n",
              "          document.querySelector('#df-64f199d4-94c4-4743-ad6c-b739e47d9c38 button.colab-df-convert');\n",
              "        buttonEl.style.display =\n",
              "          google.colab.kernel.accessAllowed ? 'block' : 'none';\n",
              "\n",
              "        async function convertToInteractive(key) {\n",
              "          const element = document.querySelector('#df-64f199d4-94c4-4743-ad6c-b739e47d9c38');\n",
              "          const dataTable =\n",
              "            await google.colab.kernel.invokeFunction('convertToInteractive',\n",
              "                                                     [key], {});\n",
              "          if (!dataTable) return;\n",
              "\n",
              "          const docLinkHtml = 'Like what you see? Visit the ' +\n",
              "            '<a target=\"_blank\" href=https://colab.research.google.com/notebooks/data_table.ipynb>data table notebook</a>'\n",
              "            + ' to learn more about interactive tables.';\n",
              "          element.innerHTML = '';\n",
              "          dataTable['output_type'] = 'display_data';\n",
              "          await google.colab.output.renderOutput(dataTable, element);\n",
              "          const docLink = document.createElement('div');\n",
              "          docLink.innerHTML = docLinkHtml;\n",
              "          element.appendChild(docLink);\n",
              "        }\n",
              "      </script>\n",
              "    </div>\n",
              "  </div>\n",
              "  "
            ]
          },
          "metadata": {},
          "execution_count": 45
        }
      ]
    },
    {
      "cell_type": "markdown",
      "source": [
        "I can also see the number of streams of specific song with `noStreamsTrack()` function:"
      ],
      "metadata": {
        "id": "nRvCHFySyH0Z"
      }
    },
    {
      "cell_type": "code",
      "source": [
        "noStreamsTrack('COMPLETE MESS', '5 Seconds of Summer')"
      ],
      "metadata": {
        "colab": {
          "base_uri": "https://localhost:8080/"
        },
        "id": "kco_fj6AzWHh",
        "outputId": "26551962-cc03-4124-ef27-90b0a1581246"
      },
      "execution_count": 50,
      "outputs": [
        {
          "output_type": "execute_result",
          "data": {
            "text/plain": [
              "[82]"
            ]
          },
          "metadata": {},
          "execution_count": 50
        }
      ]
    },
    {
      "cell_type": "markdown",
      "source": [
        "I played COMPLETE MESS by 5 Seconds of Summer 82 times in the first half of 2022."
      ],
      "metadata": {
        "id": "CAbOUk6jyaoc"
      }
    },
    {
      "cell_type": "markdown",
      "source": [
        "---\n",
        "\n",
        "Reference\n",
        "* [EDA Spotify Personal Data on Medium](https://medium.com/data-folks-indonesia/eda-spotify-personal-data-explore-spotify-personal-data-4a4d1665e6a5)\n",
        "* [Spotistat by anthonio9 on Github](https://github.com/anthonio9/Spotistat)"
      ],
      "metadata": {
        "id": "hARYchmcUiYH"
      }
    }
  ]
}